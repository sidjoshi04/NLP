{
 "cells": [
  {
   "cell_type": "code",
   "execution_count": 2,
   "metadata": {},
   "outputs": [],
   "source": [
    "import pandas as pd\n",
    "import nltk\n",
    "from nltk.corpus import stopwords"
   ]
  },
  {
   "cell_type": "code",
   "execution_count": 59,
   "metadata": {
    "collapsed": true
   },
   "outputs": [],
   "source": [
    "train_data = pd.read_excel(r\"E:\\Edrive\\Sudhanshu\\Datatrained Projects\\News_category_NLP\\Data_News_category_NLP\\News_category_Train.xlsx\")"
   ]
  },
  {
   "cell_type": "code",
   "execution_count": 60,
   "metadata": {
    "collapsed": true
   },
   "outputs": [],
   "source": [
    "test_data = pd.read_excel(r\"E:\\Edrive\\Sudhanshu\\Datatrained Projects\\News_category_NLP\\Data_News_category_NLP\\News_category_Test.xlsx\")"
   ]
  },
  {
   "cell_type": "code",
   "execution_count": 61,
   "metadata": {},
   "outputs": [
    {
     "data": {
      "text/html": [
       "<div>\n",
       "<style>\n",
       "    .dataframe thead tr:only-child th {\n",
       "        text-align: right;\n",
       "    }\n",
       "\n",
       "    .dataframe thead th {\n",
       "        text-align: left;\n",
       "    }\n",
       "\n",
       "    .dataframe tbody tr th {\n",
       "        vertical-align: top;\n",
       "    }\n",
       "</style>\n",
       "<table border=\"1\" class=\"dataframe\">\n",
       "  <thead>\n",
       "    <tr style=\"text-align: right;\">\n",
       "      <th></th>\n",
       "      <th>STORY</th>\n",
       "      <th>SECTION</th>\n",
       "    </tr>\n",
       "  </thead>\n",
       "  <tbody>\n",
       "    <tr>\n",
       "      <th>0</th>\n",
       "      <td>But the most painful was the huge reversal in ...</td>\n",
       "      <td>3</td>\n",
       "    </tr>\n",
       "    <tr>\n",
       "      <th>1</th>\n",
       "      <td>How formidable is the opposition alliance amon...</td>\n",
       "      <td>0</td>\n",
       "    </tr>\n",
       "    <tr>\n",
       "      <th>2</th>\n",
       "      <td>Most Asian currencies were trading lower today...</td>\n",
       "      <td>3</td>\n",
       "    </tr>\n",
       "    <tr>\n",
       "      <th>3</th>\n",
       "      <td>If you want to answer any question, click on ‘...</td>\n",
       "      <td>1</td>\n",
       "    </tr>\n",
       "    <tr>\n",
       "      <th>4</th>\n",
       "      <td>In global markets, gold prices edged up today ...</td>\n",
       "      <td>3</td>\n",
       "    </tr>\n",
       "  </tbody>\n",
       "</table>\n",
       "</div>"
      ],
      "text/plain": [
       "                                               STORY  SECTION\n",
       "0  But the most painful was the huge reversal in ...        3\n",
       "1  How formidable is the opposition alliance amon...        0\n",
       "2  Most Asian currencies were trading lower today...        3\n",
       "3  If you want to answer any question, click on ‘...        1\n",
       "4  In global markets, gold prices edged up today ...        3"
      ]
     },
     "execution_count": 61,
     "metadata": {},
     "output_type": "execute_result"
    }
   ],
   "source": [
    "train_data.head()"
   ]
  },
  {
   "cell_type": "code",
   "execution_count": 62,
   "metadata": {},
   "outputs": [
    {
     "data": {
      "text/html": [
       "<div>\n",
       "<style>\n",
       "    .dataframe thead tr:only-child th {\n",
       "        text-align: right;\n",
       "    }\n",
       "\n",
       "    .dataframe thead th {\n",
       "        text-align: left;\n",
       "    }\n",
       "\n",
       "    .dataframe tbody tr th {\n",
       "        vertical-align: top;\n",
       "    }\n",
       "</style>\n",
       "<table border=\"1\" class=\"dataframe\">\n",
       "  <thead>\n",
       "    <tr style=\"text-align: right;\">\n",
       "      <th></th>\n",
       "      <th>STORY</th>\n",
       "    </tr>\n",
       "  </thead>\n",
       "  <tbody>\n",
       "    <tr>\n",
       "      <th>0</th>\n",
       "      <td>2019 will see gadgets like gaming smartphones ...</td>\n",
       "    </tr>\n",
       "    <tr>\n",
       "      <th>1</th>\n",
       "      <td>It has also unleashed a wave of changes in the...</td>\n",
       "    </tr>\n",
       "    <tr>\n",
       "      <th>2</th>\n",
       "      <td>It can be confusing to pick the right smartpho...</td>\n",
       "    </tr>\n",
       "    <tr>\n",
       "      <th>3</th>\n",
       "      <td>The mobile application is integrated with a da...</td>\n",
       "    </tr>\n",
       "    <tr>\n",
       "      <th>4</th>\n",
       "      <td>We have rounded up some of the gadgets that sh...</td>\n",
       "    </tr>\n",
       "  </tbody>\n",
       "</table>\n",
       "</div>"
      ],
      "text/plain": [
       "                                               STORY\n",
       "0  2019 will see gadgets like gaming smartphones ...\n",
       "1  It has also unleashed a wave of changes in the...\n",
       "2  It can be confusing to pick the right smartpho...\n",
       "3  The mobile application is integrated with a da...\n",
       "4  We have rounded up some of the gadgets that sh..."
      ]
     },
     "execution_count": 62,
     "metadata": {},
     "output_type": "execute_result"
    }
   ],
   "source": [
    "test_data.head()"
   ]
  },
  {
   "cell_type": "code",
   "execution_count": 6,
   "metadata": {},
   "outputs": [
    {
     "name": "stdout",
     "output_type": "stream",
     "text": [
      "But the most painful was the huge reversal in fee income, unheard of among private sector lenders. Essentially, it means that Yes Bank took it for granted that fees on structured loan deals will be paid and accounted for upfront on its books. As borrowers turned defaulters, the fees tied to these loan deals fell off the cracks. Gill has now vowed to shift to a safer accounting practice of amortizing fee income rather than booking these upfront.\n",
      "\n",
      "\n",
      "Gill’s move to mend past ways means that there will be no nasty surprises in the future. This is good news considering that investors love a clean image and loathe uncertainties.\n",
      "\n",
      "\n",
      "But there is no gain without pain and the promise of a strong and stable balance sheet comes with some sacrifices as well. Investors will have to give up the hopes of phenomenal growth, a promise made by Kapoor.\n",
      "How formidable is the opposition alliance among Congress, Jharkhand Mukti Morcha (JMM) and Jharkhand Vikas Morcha (Prajatantrik)?\n"
     ]
    }
   ],
   "source": [
    "#First two Stories from dataset\n",
    "for news in train_data.STORY[:2]:\n",
    "    print(news)"
   ]
  },
  {
   "cell_type": "code",
   "execution_count": 7,
   "metadata": {},
   "outputs": [
    {
     "name": "stdout",
     "output_type": "stream",
     "text": [
      "<class 'pandas.core.frame.DataFrame'>\n",
      "RangeIndex: 7628 entries, 0 to 7627\n",
      "Data columns (total 2 columns):\n",
      "STORY      7628 non-null object\n",
      "SECTION    7628 non-null int64\n",
      "dtypes: int64(1), object(1)\n",
      "memory usage: 119.3+ KB\n"
     ]
    }
   ],
   "source": [
    "train_data.info()"
   ]
  },
  {
   "cell_type": "code",
   "execution_count": 63,
   "metadata": {},
   "outputs": [
    {
     "data": {
      "text/plain": [
       "(7628, 2)"
      ]
     },
     "execution_count": 63,
     "metadata": {},
     "output_type": "execute_result"
    }
   ],
   "source": [
    "train_data.shape"
   ]
  },
  {
   "cell_type": "code",
   "execution_count": 64,
   "metadata": {},
   "outputs": [
    {
     "data": {
      "text/plain": [
       "(2748, 1)"
      ]
     },
     "execution_count": 64,
     "metadata": {},
     "output_type": "execute_result"
    }
   ],
   "source": [
    "test_data.shape"
   ]
  },
  {
   "cell_type": "code",
   "execution_count": 9,
   "metadata": {},
   "outputs": [
    {
     "data": {
      "text/plain": [
       "1    2772\n",
       "2    1924\n",
       "0    1686\n",
       "3    1246\n",
       "Name: SECTION, dtype: int64"
      ]
     },
     "execution_count": 9,
     "metadata": {},
     "output_type": "execute_result"
    }
   ],
   "source": [
    "train_data['SECTION'].value_counts()"
   ]
  },
  {
   "cell_type": "code",
   "execution_count": 82,
   "metadata": {
    "collapsed": true
   },
   "outputs": [],
   "source": [
    "train_data.drop_duplicates(inplace = True)"
   ]
  },
  {
   "cell_type": "code",
   "execution_count": 12,
   "metadata": {
    "collapsed": true
   },
   "outputs": [],
   "source": [
    "import string\n",
    "punctuation = string.punctuation"
   ]
  },
  {
   "cell_type": "code",
   "execution_count": 13,
   "metadata": {},
   "outputs": [
    {
     "data": {
      "text/plain": [
       "'!\"#$%&\\'()*+,-./:;<=>?@[\\\\]^_`{|}~'"
      ]
     },
     "execution_count": 13,
     "metadata": {},
     "output_type": "execute_result"
    }
   ],
   "source": [
    "punctuation"
   ]
  },
  {
   "cell_type": "code",
   "execution_count": null,
   "metadata": {
    "collapsed": true
   },
   "outputs": [],
   "source": [
    "nltk.download()"
   ]
  },
  {
   "cell_type": "code",
   "execution_count": 14,
   "metadata": {},
   "outputs": [],
   "source": [
    "stopword = stopwords.words('english')"
   ]
  },
  {
   "cell_type": "code",
   "execution_count": 15,
   "metadata": {},
   "outputs": [
    {
     "data": {
      "text/plain": [
       "['i',\n",
       " 'me',\n",
       " 'my',\n",
       " 'myself',\n",
       " 'we',\n",
       " 'our',\n",
       " 'ours',\n",
       " 'ourselves',\n",
       " 'you',\n",
       " \"you're\",\n",
       " \"you've\",\n",
       " \"you'll\",\n",
       " \"you'd\",\n",
       " 'your',\n",
       " 'yours',\n",
       " 'yourself',\n",
       " 'yourselves',\n",
       " 'he',\n",
       " 'him',\n",
       " 'his',\n",
       " 'himself',\n",
       " 'she',\n",
       " \"she's\",\n",
       " 'her',\n",
       " 'hers',\n",
       " 'herself',\n",
       " 'it',\n",
       " \"it's\",\n",
       " 'its',\n",
       " 'itself',\n",
       " 'they',\n",
       " 'them',\n",
       " 'their',\n",
       " 'theirs',\n",
       " 'themselves',\n",
       " 'what',\n",
       " 'which',\n",
       " 'who',\n",
       " 'whom',\n",
       " 'this',\n",
       " 'that',\n",
       " \"that'll\",\n",
       " 'these',\n",
       " 'those',\n",
       " 'am',\n",
       " 'is',\n",
       " 'are',\n",
       " 'was',\n",
       " 'were',\n",
       " 'be',\n",
       " 'been',\n",
       " 'being',\n",
       " 'have',\n",
       " 'has',\n",
       " 'had',\n",
       " 'having',\n",
       " 'do',\n",
       " 'does',\n",
       " 'did',\n",
       " 'doing',\n",
       " 'a',\n",
       " 'an',\n",
       " 'the',\n",
       " 'and',\n",
       " 'but',\n",
       " 'if',\n",
       " 'or',\n",
       " 'because',\n",
       " 'as',\n",
       " 'until',\n",
       " 'while',\n",
       " 'of',\n",
       " 'at',\n",
       " 'by',\n",
       " 'for',\n",
       " 'with',\n",
       " 'about',\n",
       " 'against',\n",
       " 'between',\n",
       " 'into',\n",
       " 'through',\n",
       " 'during',\n",
       " 'before',\n",
       " 'after',\n",
       " 'above',\n",
       " 'below',\n",
       " 'to',\n",
       " 'from',\n",
       " 'up',\n",
       " 'down',\n",
       " 'in',\n",
       " 'out',\n",
       " 'on',\n",
       " 'off',\n",
       " 'over',\n",
       " 'under',\n",
       " 'again',\n",
       " 'further',\n",
       " 'then',\n",
       " 'once',\n",
       " 'here',\n",
       " 'there',\n",
       " 'when',\n",
       " 'where',\n",
       " 'why',\n",
       " 'how',\n",
       " 'all',\n",
       " 'any',\n",
       " 'both',\n",
       " 'each',\n",
       " 'few',\n",
       " 'more',\n",
       " 'most',\n",
       " 'other',\n",
       " 'some',\n",
       " 'such',\n",
       " 'no',\n",
       " 'nor',\n",
       " 'not',\n",
       " 'only',\n",
       " 'own',\n",
       " 'same',\n",
       " 'so',\n",
       " 'than',\n",
       " 'too',\n",
       " 'very',\n",
       " 's',\n",
       " 't',\n",
       " 'can',\n",
       " 'will',\n",
       " 'just',\n",
       " 'don',\n",
       " \"don't\",\n",
       " 'should',\n",
       " \"should've\",\n",
       " 'now',\n",
       " 'd',\n",
       " 'll',\n",
       " 'm',\n",
       " 'o',\n",
       " 're',\n",
       " 've',\n",
       " 'y',\n",
       " 'ain',\n",
       " 'aren',\n",
       " \"aren't\",\n",
       " 'couldn',\n",
       " \"couldn't\",\n",
       " 'didn',\n",
       " \"didn't\",\n",
       " 'doesn',\n",
       " \"doesn't\",\n",
       " 'hadn',\n",
       " \"hadn't\",\n",
       " 'hasn',\n",
       " \"hasn't\",\n",
       " 'haven',\n",
       " \"haven't\",\n",
       " 'isn',\n",
       " \"isn't\",\n",
       " 'ma',\n",
       " 'mightn',\n",
       " \"mightn't\",\n",
       " 'mustn',\n",
       " \"mustn't\",\n",
       " 'needn',\n",
       " \"needn't\",\n",
       " 'shan',\n",
       " \"shan't\",\n",
       " 'shouldn',\n",
       " \"shouldn't\",\n",
       " 'wasn',\n",
       " \"wasn't\",\n",
       " 'weren',\n",
       " \"weren't\",\n",
       " 'won',\n",
       " \"won't\",\n",
       " 'wouldn',\n",
       " \"wouldn't\"]"
      ]
     },
     "execution_count": 15,
     "metadata": {},
     "output_type": "execute_result"
    }
   ],
   "source": [
    "stopword"
   ]
  },
  {
   "cell_type": "code",
   "execution_count": 16,
   "metadata": {},
   "outputs": [
    {
     "data": {
      "text/plain": [
       "'sample text'"
      ]
     },
     "execution_count": 16,
     "metadata": {},
     "output_type": "execute_result"
    }
   ],
   "source": [
    "def clean(text):\n",
    "    text= text.lower()\n",
    "    text = \"\".join(x for x in text if x not in punctuation)\n",
    "    \n",
    "    words = text.split()\n",
    "    words= [w for w in words if w not in stopword]\n",
    "    \n",
    "    text = \" \".join(words)\n",
    "    return text\n",
    "clean(\"this is a sample text\")"
   ]
  },
  {
   "cell_type": "code",
   "execution_count": 84,
   "metadata": {
    "collapsed": true
   },
   "outputs": [],
   "source": [
    "train_data[\"cleaned\"] = train_data[\"STORY\"].apply(clean)"
   ]
  },
  {
   "cell_type": "code",
   "execution_count": 85,
   "metadata": {},
   "outputs": [
    {
     "data": {
      "text/html": [
       "<div>\n",
       "<style>\n",
       "    .dataframe thead tr:only-child th {\n",
       "        text-align: right;\n",
       "    }\n",
       "\n",
       "    .dataframe thead th {\n",
       "        text-align: left;\n",
       "    }\n",
       "\n",
       "    .dataframe tbody tr th {\n",
       "        vertical-align: top;\n",
       "    }\n",
       "</style>\n",
       "<table border=\"1\" class=\"dataframe\">\n",
       "  <thead>\n",
       "    <tr style=\"text-align: right;\">\n",
       "      <th></th>\n",
       "      <th>STORY</th>\n",
       "      <th>cleaned</th>\n",
       "    </tr>\n",
       "  </thead>\n",
       "  <tbody>\n",
       "    <tr>\n",
       "      <th>0</th>\n",
       "      <td>But the most painful was the huge reversal in ...</td>\n",
       "      <td>painful huge reversal fee income unheard among...</td>\n",
       "    </tr>\n",
       "    <tr>\n",
       "      <th>1</th>\n",
       "      <td>How formidable is the opposition alliance amon...</td>\n",
       "      <td>formidable opposition alliance among congress ...</td>\n",
       "    </tr>\n",
       "    <tr>\n",
       "      <th>2</th>\n",
       "      <td>Most Asian currencies were trading lower today...</td>\n",
       "      <td>asian currencies trading lower today south kor...</td>\n",
       "    </tr>\n",
       "    <tr>\n",
       "      <th>3</th>\n",
       "      <td>If you want to answer any question, click on ‘...</td>\n",
       "      <td>want answer question click ‘answer’ clicking a...</td>\n",
       "    </tr>\n",
       "    <tr>\n",
       "      <th>4</th>\n",
       "      <td>In global markets, gold prices edged up today ...</td>\n",
       "      <td>global markets gold prices edged today disappo...</td>\n",
       "    </tr>\n",
       "    <tr>\n",
       "      <th>5</th>\n",
       "      <td>BEIJING: Chinese tech giant Huawei has announc...</td>\n",
       "      <td>beijing chinese tech giant huawei announced pl...</td>\n",
       "    </tr>\n",
       "    <tr>\n",
       "      <th>6</th>\n",
       "      <td>Mumbai: India Inc's external commercial borrow...</td>\n",
       "      <td>mumbai india incs external commercial borrowin...</td>\n",
       "    </tr>\n",
       "    <tr>\n",
       "      <th>7</th>\n",
       "      <td>On Wednesday, Federal Reserve Chairman Jerome ...</td>\n",
       "      <td>wednesday federal reserve chairman jerome powe...</td>\n",
       "    </tr>\n",
       "    <tr>\n",
       "      <th>8</th>\n",
       "      <td>What more can you give to the audience? I have...</td>\n",
       "      <td>give audience already done yeh hai aashiqui py...</td>\n",
       "    </tr>\n",
       "    <tr>\n",
       "      <th>9</th>\n",
       "      <td>com, Arbaaz Khan spoke about getting back to D...</td>\n",
       "      <td>com arbaaz khan spoke getting back dabangg sal...</td>\n",
       "    </tr>\n",
       "    <tr>\n",
       "      <th>10</th>\n",
       "      <td>“One would think that their development and te...</td>\n",
       "      <td>“one would think development testing process w...</td>\n",
       "    </tr>\n",
       "    <tr>\n",
       "      <th>11</th>\n",
       "      <td>So far this year, the rupee has gained 0.7%, w...</td>\n",
       "      <td>far year rupee gained 07 foreign investors bou...</td>\n",
       "    </tr>\n",
       "    <tr>\n",
       "      <th>12</th>\n",
       "      <td>Xiaomi, however, sees the presence of Jio in r...</td>\n",
       "      <td>xiaomi however sees presence jio rural markets...</td>\n",
       "    </tr>\n",
       "    <tr>\n",
       "      <th>13</th>\n",
       "      <td>The ad reads \"No bells &amp; whistles. No Bezel. N...</td>\n",
       "      <td>ad reads bells whistles bezel notch app lag bl...</td>\n",
       "    </tr>\n",
       "    <tr>\n",
       "      <th>14</th>\n",
       "      <td>On Tuesday, Powell said a healthy US economy h...</td>\n",
       "      <td>tuesday powell said healthy us economy faced “...</td>\n",
       "    </tr>\n",
       "    <tr>\n",
       "      <th>15</th>\n",
       "      <td>This feature will help make the display more r...</td>\n",
       "      <td>feature help make display responsive inturn si...</td>\n",
       "    </tr>\n",
       "    <tr>\n",
       "      <th>16</th>\n",
       "      <td>TikTok, which is very popular among children, ...</td>\n",
       "      <td>tiktok popular among children facing criticism...</td>\n",
       "    </tr>\n",
       "    <tr>\n",
       "      <th>17</th>\n",
       "      <td>The company will hive off its ratings business...</td>\n",
       "      <td>company hive ratings business whollyowned subs...</td>\n",
       "    </tr>\n",
       "    <tr>\n",
       "      <th>18</th>\n",
       "      <td>He chooses to hide his CP from colleagues, mov...</td>\n",
       "      <td>chooses hide cp colleagues move mother’s house...</td>\n",
       "    </tr>\n",
       "    <tr>\n",
       "      <th>19</th>\n",
       "      <td>That’s right, an opera house. It simply goes t...</td>\n",
       "      <td>that’s right opera house simply goes show appl...</td>\n",
       "    </tr>\n",
       "    <tr>\n",
       "      <th>20</th>\n",
       "      <td>Facebook said eligible creators would be able ...</td>\n",
       "      <td>facebook said eligible creators would able mak...</td>\n",
       "    </tr>\n",
       "    <tr>\n",
       "      <th>21</th>\n",
       "      <td>Starring Varun Dhawan, Alia Bhatt, Sonakshi Si...</td>\n",
       "      <td>starring varun dhawan alia bhatt sonakshi sinh...</td>\n",
       "    </tr>\n",
       "    <tr>\n",
       "      <th>22</th>\n",
       "      <td>GKN Securities which was barred over misuse of...</td>\n",
       "      <td>gkn securities barred misuse socalled dark fib...</td>\n",
       "    </tr>\n",
       "    <tr>\n",
       "      <th>23</th>\n",
       "      <td>Fintech startup Zeta, co-founded by Bhavin Tur...</td>\n",
       "      <td>fintech startup zeta cofounded bhavin turakhia...</td>\n",
       "    </tr>\n",
       "    <tr>\n",
       "      <th>24</th>\n",
       "      <td>This story has been published from a wire agen...</td>\n",
       "      <td>story published wire agency feed without modif...</td>\n",
       "    </tr>\n",
       "    <tr>\n",
       "      <th>25</th>\n",
       "      <td>Globally established companies such as Stratas...</td>\n",
       "      <td>globally established companies stratasys optom...</td>\n",
       "    </tr>\n",
       "    <tr>\n",
       "      <th>26</th>\n",
       "      <td>The statements in which Yeddyurappa says that ...</td>\n",
       "      <td>statements yeddyurappa says air strikes would ...</td>\n",
       "    </tr>\n",
       "    <tr>\n",
       "      <th>27</th>\n",
       "      <td>As NDA seeks re-election, agriculture will for...</td>\n",
       "      <td>nda seeks reelection agriculture form importan...</td>\n",
       "    </tr>\n",
       "    <tr>\n",
       "      <th>28</th>\n",
       "      <td>Yeddyurappa said the IAF air strikes would ben...</td>\n",
       "      <td>yeddyurappa said iaf air strikes would benefit...</td>\n",
       "    </tr>\n",
       "    <tr>\n",
       "      <th>29</th>\n",
       "      <td>”With two releases this year so far, Milan Tal...</td>\n",
       "      <td>”with two releases year far milan talkies raw ...</td>\n",
       "    </tr>\n",
       "    <tr>\n",
       "      <th>...</th>\n",
       "      <td>...</td>\n",
       "      <td>...</td>\n",
       "    </tr>\n",
       "    <tr>\n",
       "      <th>7598</th>\n",
       "      <td>“TDP as a party and ideology have gotten sidel...</td>\n",
       "      <td>“tdp party ideology gotten sidelined especiall...</td>\n",
       "    </tr>\n",
       "    <tr>\n",
       "      <th>7599</th>\n",
       "      <td>But so far, whenever we’ve reviewed Kindles, t...</td>\n",
       "      <td>far whenever we’ve reviewed kindles paperwhite...</td>\n",
       "    </tr>\n",
       "    <tr>\n",
       "      <th>7600</th>\n",
       "      <td>During the day, the markets saw high volatilit...</td>\n",
       "      <td>day markets saw high volatility following prim...</td>\n",
       "    </tr>\n",
       "    <tr>\n",
       "      <th>7601</th>\n",
       "      <td>Today, Gmail allows 15GB free storage. Users c...</td>\n",
       "      <td>today gmail allows 15gb free storage users rec...</td>\n",
       "    </tr>\n",
       "    <tr>\n",
       "      <th>7602</th>\n",
       "      <td>Aparajita Sarangi took voluntary retirement wh...</td>\n",
       "      <td>aparajita sarangi took voluntary retirement se...</td>\n",
       "    </tr>\n",
       "    <tr>\n",
       "      <th>7603</th>\n",
       "      <td>Investors are awaiting economic growth data an...</td>\n",
       "      <td>investors awaiting economic growth data expiry...</td>\n",
       "    </tr>\n",
       "    <tr>\n",
       "      <th>7604</th>\n",
       "      <td>With advice from online survivalists, she move...</td>\n",
       "      <td>advice online survivalists moves unpopulated a...</td>\n",
       "    </tr>\n",
       "    <tr>\n",
       "      <th>7605</th>\n",
       "      <td>All this time, the developers have been disgui...</td>\n",
       "      <td>time developers disguising app pretend carrier...</td>\n",
       "    </tr>\n",
       "    <tr>\n",
       "      <th>7606</th>\n",
       "      <td>Lok Sabha elections 2019: Fifth phase of votin...</td>\n",
       "      <td>lok sabha elections 2019 fifth phase voting be...</td>\n",
       "    </tr>\n",
       "    <tr>\n",
       "      <th>7607</th>\n",
       "      <td>The watchdog passed five separate orders, toge...</td>\n",
       "      <td>watchdog passed five separate orders together ...</td>\n",
       "    </tr>\n",
       "    <tr>\n",
       "      <th>7608</th>\n",
       "      <td>In a Twitter post last week, OnePlus confirmed...</td>\n",
       "      <td>twitter post last week oneplus confirmed prese...</td>\n",
       "    </tr>\n",
       "    <tr>\n",
       "      <th>7609</th>\n",
       "      <td>An iOS-only email client named 'Spark' will be...</td>\n",
       "      <td>iosonly email client named spark launched andr...</td>\n",
       "    </tr>\n",
       "    <tr>\n",
       "      <th>7610</th>\n",
       "      <td>That said, the question really is why you shou...</td>\n",
       "      <td>said question really spend ₹10000 portable mus...</td>\n",
       "    </tr>\n",
       "    <tr>\n",
       "      <th>7611</th>\n",
       "      <td>And I didn’t want to do that kind of movie bec...</td>\n",
       "      <td>didn’t want kind movie felt done similar kinds...</td>\n",
       "    </tr>\n",
       "    <tr>\n",
       "      <th>7612</th>\n",
       "      <td>His 1999 film All About My Mother received Bes...</td>\n",
       "      <td>1999 film mother received best foreign languag...</td>\n",
       "    </tr>\n",
       "    <tr>\n",
       "      <th>7613</th>\n",
       "      <td>While Mohan Babu is not considered to be a pol...</td>\n",
       "      <td>mohan babu considered political heavyweight kn...</td>\n",
       "    </tr>\n",
       "    <tr>\n",
       "      <th>7614</th>\n",
       "      <td>The S&amp;P 500 opened higher by 1.26 points, or 0...</td>\n",
       "      <td>sp 500 opened higher 126 points 004 281972 nas...</td>\n",
       "    </tr>\n",
       "    <tr>\n",
       "      <th>7615</th>\n",
       "      <td>However, some reports suggest that there would...</td>\n",
       "      <td>however reports suggest would another smartpho...</td>\n",
       "    </tr>\n",
       "    <tr>\n",
       "      <th>7616</th>\n",
       "      <td>Mumbai: Indian stocks rose, with key indices e...</td>\n",
       "      <td>mumbai indian stocks rose key indices ending r...</td>\n",
       "    </tr>\n",
       "    <tr>\n",
       "      <th>7617</th>\n",
       "      <td>Sure, the others are slightly faster, have sli...</td>\n",
       "      <td>sure others slightly faster slightly sharper s...</td>\n",
       "    </tr>\n",
       "    <tr>\n",
       "      <th>7618</th>\n",
       "      <td>With up to 14.7 million pixels, one billion co...</td>\n",
       "      <td>147 million pixels one billion colours 500 nit...</td>\n",
       "    </tr>\n",
       "    <tr>\n",
       "      <th>7619</th>\n",
       "      <td>A BJD supporter in Puri. Congress leaders as w...</td>\n",
       "      <td>bjd supporter puri congress leaders well peopl...</td>\n",
       "    </tr>\n",
       "    <tr>\n",
       "      <th>7620</th>\n",
       "      <td>Bollywood celebrities took to social media to ...</td>\n",
       "      <td>bollywood celebrities took social media expres...</td>\n",
       "    </tr>\n",
       "    <tr>\n",
       "      <th>7621</th>\n",
       "      <td>However, as of now, there is no confirmation a...</td>\n",
       "      <td>however confirmation developers games would ch...</td>\n",
       "    </tr>\n",
       "    <tr>\n",
       "      <th>7622</th>\n",
       "      <td>In terms of optics, the back of the Redmi Note...</td>\n",
       "      <td>terms optics back redmi note 7 boasts 48mp5mp ...</td>\n",
       "    </tr>\n",
       "    <tr>\n",
       "      <th>7623</th>\n",
       "      <td>Karnataka has been a Congress bastion, but it ...</td>\n",
       "      <td>karnataka congress bastion also gave bjp first...</td>\n",
       "    </tr>\n",
       "    <tr>\n",
       "      <th>7624</th>\n",
       "      <td>The film, which also features Janhvi Kapoor, w...</td>\n",
       "      <td>film also features janhvi kapoor revolve aroun...</td>\n",
       "    </tr>\n",
       "    <tr>\n",
       "      <th>7625</th>\n",
       "      <td>The database has been created after bringing t...</td>\n",
       "      <td>database created bringing together criminal re...</td>\n",
       "    </tr>\n",
       "    <tr>\n",
       "      <th>7626</th>\n",
       "      <td>The state, which has had an uneasy relationshi...</td>\n",
       "      <td>state uneasy relationship mainland since days ...</td>\n",
       "    </tr>\n",
       "    <tr>\n",
       "      <th>7627</th>\n",
       "      <td>Virus stars Kunchacko Boban, Tovino Thomas, In...</td>\n",
       "      <td>virus stars kunchacko boban tovino thomas indr...</td>\n",
       "    </tr>\n",
       "  </tbody>\n",
       "</table>\n",
       "<p>7551 rows × 2 columns</p>\n",
       "</div>"
      ],
      "text/plain": [
       "                                                  STORY  \\\n",
       "0     But the most painful was the huge reversal in ...   \n",
       "1     How formidable is the opposition alliance amon...   \n",
       "2     Most Asian currencies were trading lower today...   \n",
       "3     If you want to answer any question, click on ‘...   \n",
       "4     In global markets, gold prices edged up today ...   \n",
       "5     BEIJING: Chinese tech giant Huawei has announc...   \n",
       "6     Mumbai: India Inc's external commercial borrow...   \n",
       "7     On Wednesday, Federal Reserve Chairman Jerome ...   \n",
       "8     What more can you give to the audience? I have...   \n",
       "9     com, Arbaaz Khan spoke about getting back to D...   \n",
       "10    “One would think that their development and te...   \n",
       "11    So far this year, the rupee has gained 0.7%, w...   \n",
       "12    Xiaomi, however, sees the presence of Jio in r...   \n",
       "13    The ad reads \"No bells & whistles. No Bezel. N...   \n",
       "14    On Tuesday, Powell said a healthy US economy h...   \n",
       "15    This feature will help make the display more r...   \n",
       "16    TikTok, which is very popular among children, ...   \n",
       "17    The company will hive off its ratings business...   \n",
       "18    He chooses to hide his CP from colleagues, mov...   \n",
       "19    That’s right, an opera house. It simply goes t...   \n",
       "20    Facebook said eligible creators would be able ...   \n",
       "21    Starring Varun Dhawan, Alia Bhatt, Sonakshi Si...   \n",
       "22    GKN Securities which was barred over misuse of...   \n",
       "23    Fintech startup Zeta, co-founded by Bhavin Tur...   \n",
       "24    This story has been published from a wire agen...   \n",
       "25    Globally established companies such as Stratas...   \n",
       "26    The statements in which Yeddyurappa says that ...   \n",
       "27    As NDA seeks re-election, agriculture will for...   \n",
       "28    Yeddyurappa said the IAF air strikes would ben...   \n",
       "29    ”With two releases this year so far, Milan Tal...   \n",
       "...                                                 ...   \n",
       "7598  “TDP as a party and ideology have gotten sidel...   \n",
       "7599  But so far, whenever we’ve reviewed Kindles, t...   \n",
       "7600  During the day, the markets saw high volatilit...   \n",
       "7601  Today, Gmail allows 15GB free storage. Users c...   \n",
       "7602  Aparajita Sarangi took voluntary retirement wh...   \n",
       "7603  Investors are awaiting economic growth data an...   \n",
       "7604  With advice from online survivalists, she move...   \n",
       "7605  All this time, the developers have been disgui...   \n",
       "7606  Lok Sabha elections 2019: Fifth phase of votin...   \n",
       "7607  The watchdog passed five separate orders, toge...   \n",
       "7608  In a Twitter post last week, OnePlus confirmed...   \n",
       "7609  An iOS-only email client named 'Spark' will be...   \n",
       "7610  That said, the question really is why you shou...   \n",
       "7611  And I didn’t want to do that kind of movie bec...   \n",
       "7612  His 1999 film All About My Mother received Bes...   \n",
       "7613  While Mohan Babu is not considered to be a pol...   \n",
       "7614  The S&P 500 opened higher by 1.26 points, or 0...   \n",
       "7615  However, some reports suggest that there would...   \n",
       "7616  Mumbai: Indian stocks rose, with key indices e...   \n",
       "7617  Sure, the others are slightly faster, have sli...   \n",
       "7618  With up to 14.7 million pixels, one billion co...   \n",
       "7619  A BJD supporter in Puri. Congress leaders as w...   \n",
       "7620  Bollywood celebrities took to social media to ...   \n",
       "7621  However, as of now, there is no confirmation a...   \n",
       "7622  In terms of optics, the back of the Redmi Note...   \n",
       "7623  Karnataka has been a Congress bastion, but it ...   \n",
       "7624  The film, which also features Janhvi Kapoor, w...   \n",
       "7625  The database has been created after bringing t...   \n",
       "7626  The state, which has had an uneasy relationshi...   \n",
       "7627  Virus stars Kunchacko Boban, Tovino Thomas, In...   \n",
       "\n",
       "                                                cleaned  \n",
       "0     painful huge reversal fee income unheard among...  \n",
       "1     formidable opposition alliance among congress ...  \n",
       "2     asian currencies trading lower today south kor...  \n",
       "3     want answer question click ‘answer’ clicking a...  \n",
       "4     global markets gold prices edged today disappo...  \n",
       "5     beijing chinese tech giant huawei announced pl...  \n",
       "6     mumbai india incs external commercial borrowin...  \n",
       "7     wednesday federal reserve chairman jerome powe...  \n",
       "8     give audience already done yeh hai aashiqui py...  \n",
       "9     com arbaaz khan spoke getting back dabangg sal...  \n",
       "10    “one would think development testing process w...  \n",
       "11    far year rupee gained 07 foreign investors bou...  \n",
       "12    xiaomi however sees presence jio rural markets...  \n",
       "13    ad reads bells whistles bezel notch app lag bl...  \n",
       "14    tuesday powell said healthy us economy faced “...  \n",
       "15    feature help make display responsive inturn si...  \n",
       "16    tiktok popular among children facing criticism...  \n",
       "17    company hive ratings business whollyowned subs...  \n",
       "18    chooses hide cp colleagues move mother’s house...  \n",
       "19    that’s right opera house simply goes show appl...  \n",
       "20    facebook said eligible creators would able mak...  \n",
       "21    starring varun dhawan alia bhatt sonakshi sinh...  \n",
       "22    gkn securities barred misuse socalled dark fib...  \n",
       "23    fintech startup zeta cofounded bhavin turakhia...  \n",
       "24    story published wire agency feed without modif...  \n",
       "25    globally established companies stratasys optom...  \n",
       "26    statements yeddyurappa says air strikes would ...  \n",
       "27    nda seeks reelection agriculture form importan...  \n",
       "28    yeddyurappa said iaf air strikes would benefit...  \n",
       "29    ”with two releases year far milan talkies raw ...  \n",
       "...                                                 ...  \n",
       "7598  “tdp party ideology gotten sidelined especiall...  \n",
       "7599  far whenever we’ve reviewed kindles paperwhite...  \n",
       "7600  day markets saw high volatility following prim...  \n",
       "7601  today gmail allows 15gb free storage users rec...  \n",
       "7602  aparajita sarangi took voluntary retirement se...  \n",
       "7603  investors awaiting economic growth data expiry...  \n",
       "7604  advice online survivalists moves unpopulated a...  \n",
       "7605  time developers disguising app pretend carrier...  \n",
       "7606  lok sabha elections 2019 fifth phase voting be...  \n",
       "7607  watchdog passed five separate orders together ...  \n",
       "7608  twitter post last week oneplus confirmed prese...  \n",
       "7609  iosonly email client named spark launched andr...  \n",
       "7610  said question really spend ₹10000 portable mus...  \n",
       "7611  didn’t want kind movie felt done similar kinds...  \n",
       "7612  1999 film mother received best foreign languag...  \n",
       "7613  mohan babu considered political heavyweight kn...  \n",
       "7614  sp 500 opened higher 126 points 004 281972 nas...  \n",
       "7615  however reports suggest would another smartpho...  \n",
       "7616  mumbai indian stocks rose key indices ending r...  \n",
       "7617  sure others slightly faster slightly sharper s...  \n",
       "7618  147 million pixels one billion colours 500 nit...  \n",
       "7619  bjd supporter puri congress leaders well peopl...  \n",
       "7620  bollywood celebrities took social media expres...  \n",
       "7621  however confirmation developers games would ch...  \n",
       "7622  terms optics back redmi note 7 boasts 48mp5mp ...  \n",
       "7623  karnataka congress bastion also gave bjp first...  \n",
       "7624  film also features janhvi kapoor revolve aroun...  \n",
       "7625  database created bringing together criminal re...  \n",
       "7626  state uneasy relationship mainland since days ...  \n",
       "7627  virus stars kunchacko boban tovino thomas indr...  \n",
       "\n",
       "[7551 rows x 2 columns]"
      ]
     },
     "execution_count": 85,
     "metadata": {},
     "output_type": "execute_result"
    }
   ],
   "source": [
    "train_data[[\"STORY\",\"cleaned\"]]"
   ]
  },
  {
   "cell_type": "code",
   "execution_count": 19,
   "metadata": {
    "collapsed": true
   },
   "outputs": [],
   "source": [
    "from sklearn.feature_extraction.text import CountVectorizer"
   ]
  },
  {
   "cell_type": "code",
   "execution_count": 86,
   "metadata": {
    "collapsed": true
   },
   "outputs": [],
   "source": [
    "#Creating a bag-of-words dictionary of words from the data\n",
    "cv = CountVectorizer().fit(train_data['cleaned'])"
   ]
  },
  {
   "cell_type": "code",
   "execution_count": 87,
   "metadata": {
    "collapsed": true
   },
   "outputs": [],
   "source": [
    "bow = cv.transform(train_data['cleaned'])"
   ]
  },
  {
   "cell_type": "code",
   "execution_count": 88,
   "metadata": {},
   "outputs": [
    {
     "name": "stdout",
     "output_type": "stream",
     "text": [
      "(7551, 38628)\n"
     ]
    }
   ],
   "source": [
    "print(bow.shape)"
   ]
  },
  {
   "cell_type": "code",
   "execution_count": 90,
   "metadata": {
    "collapsed": true
   },
   "outputs": [],
   "source": [
    "from sklearn.feature_extraction.text import TfidfTransformer\n",
    "tf = TfidfTransformer().fit(bow)"
   ]
  },
  {
   "cell_type": "code",
   "execution_count": 91,
   "metadata": {},
   "outputs": [],
   "source": [
    "tf_clean = tf.transform(bow)"
   ]
  },
  {
   "cell_type": "code",
   "execution_count": 92,
   "metadata": {},
   "outputs": [
    {
     "data": {
      "text/plain": [
       "(7551, 38628)"
      ]
     },
     "execution_count": 92,
     "metadata": {},
     "output_type": "execute_result"
    }
   ],
   "source": [
    "tf_clean.shape"
   ]
  },
  {
   "cell_type": "code",
   "execution_count": 93,
   "metadata": {
    "collapsed": true
   },
   "outputs": [],
   "source": [
    "test_data['cleaned'] = test_data['STORY'].apply(clean)"
   ]
  },
  {
   "cell_type": "code",
   "execution_count": 94,
   "metadata": {},
   "outputs": [
    {
     "data": {
      "text/html": [
       "<div>\n",
       "<style>\n",
       "    .dataframe thead tr:only-child th {\n",
       "        text-align: right;\n",
       "    }\n",
       "\n",
       "    .dataframe thead th {\n",
       "        text-align: left;\n",
       "    }\n",
       "\n",
       "    .dataframe tbody tr th {\n",
       "        vertical-align: top;\n",
       "    }\n",
       "</style>\n",
       "<table border=\"1\" class=\"dataframe\">\n",
       "  <thead>\n",
       "    <tr style=\"text-align: right;\">\n",
       "      <th></th>\n",
       "      <th>STORY</th>\n",
       "      <th>cleaned</th>\n",
       "    </tr>\n",
       "  </thead>\n",
       "  <tbody>\n",
       "    <tr>\n",
       "      <th>0</th>\n",
       "      <td>2019 will see gadgets like gaming smartphones ...</td>\n",
       "      <td>2019 see gadgets like gaming smartphones weara...</td>\n",
       "    </tr>\n",
       "    <tr>\n",
       "      <th>1</th>\n",
       "      <td>It has also unleashed a wave of changes in the...</td>\n",
       "      <td>also unleashed wave changes mcu make sure futu...</td>\n",
       "    </tr>\n",
       "    <tr>\n",
       "      <th>2</th>\n",
       "      <td>It can be confusing to pick the right smartpho...</td>\n",
       "      <td>confusing pick right smartphone segregated top...</td>\n",
       "    </tr>\n",
       "    <tr>\n",
       "      <th>3</th>\n",
       "      <td>The mobile application is integrated with a da...</td>\n",
       "      <td>mobile application integrated dashboard confir...</td>\n",
       "    </tr>\n",
       "    <tr>\n",
       "      <th>4</th>\n",
       "      <td>We have rounded up some of the gadgets that sh...</td>\n",
       "      <td>rounded gadgets showed 2018 left indelible mar...</td>\n",
       "    </tr>\n",
       "  </tbody>\n",
       "</table>\n",
       "</div>"
      ],
      "text/plain": [
       "                                               STORY  \\\n",
       "0  2019 will see gadgets like gaming smartphones ...   \n",
       "1  It has also unleashed a wave of changes in the...   \n",
       "2  It can be confusing to pick the right smartpho...   \n",
       "3  The mobile application is integrated with a da...   \n",
       "4  We have rounded up some of the gadgets that sh...   \n",
       "\n",
       "                                             cleaned  \n",
       "0  2019 see gadgets like gaming smartphones weara...  \n",
       "1  also unleashed wave changes mcu make sure futu...  \n",
       "2  confusing pick right smartphone segregated top...  \n",
       "3  mobile application integrated dashboard confir...  \n",
       "4  rounded gadgets showed 2018 left indelible mar...  "
      ]
     },
     "execution_count": 94,
     "metadata": {},
     "output_type": "execute_result"
    }
   ],
   "source": [
    "test_data.head()"
   ]
  },
  {
   "cell_type": "code",
   "execution_count": 79,
   "metadata": {
    "collapsed": true
   },
   "outputs": [],
   "source": [
    "#Creating a Multinomial Naive Bayes Classifier\n",
    "from sklearn.model_selection import train_test_split\n",
    "from sklearn.naive_bayes import MultinomialNB"
   ]
  },
  {
   "cell_type": "code",
   "execution_count": 95,
   "metadata": {
    "collapsed": true
   },
   "outputs": [],
   "source": [
    "# creates a ML model based on parameters\n",
    "def create_model(X, y):\n",
    "    X_train, X_test, y_train, y_test = train_test_split(X, y, test_size=0.2, random_state=42)\n",
    "    model = MultinomialNB()\n",
    "    model = model.fit(X_train, y_train)\n",
    "    return model, X_test, y_test"
   ]
  },
  {
   "cell_type": "code",
   "execution_count": 97,
   "metadata": {},
   "outputs": [],
   "source": [
    "#Fitting the training data to the classifier\n",
    "model_, X_test, y_test = create_model(tf_clean, train_data.SECTION)"
   ]
  },
  {
   "cell_type": "code",
   "execution_count": 98,
   "metadata": {},
   "outputs": [
    {
     "data": {
      "text/plain": [
       "0.9384513567174056"
      ]
     },
     "execution_count": 98,
     "metadata": {},
     "output_type": "execute_result"
    }
   ],
   "source": [
    "from sklearn.metrics import accuracy_score\n",
    "\n",
    "# check accuracy\n",
    "accuracy_score(y_test, model_.predict(X_test))"
   ]
  },
  {
   "cell_type": "code",
   "execution_count": null,
   "metadata": {
    "collapsed": true
   },
   "outputs": [],
   "source": [
    "from sklearn.pipeline import make_pipeline"
   ]
  },
  {
   "cell_type": "code",
   "execution_count": 114,
   "metadata": {},
   "outputs": [],
   "source": [
    "pipe = make_pipeline(CountVectorizer(),TfidfTransformer(),MultinomialNB())"
   ]
  },
  {
   "cell_type": "code",
   "execution_count": 116,
   "metadata": {},
   "outputs": [
    {
     "data": {
      "text/plain": [
       "Pipeline(memory=None,\n",
       "     steps=[('countvectorizer', CountVectorizer(analyzer='word', binary=False, decode_error='strict',\n",
       "        dtype=<class 'numpy.int64'>, encoding='utf-8', input='content',\n",
       "        lowercase=True, max_df=1.0, max_features=None, min_df=1,\n",
       "        ngram_range=(1, 1), preprocessor=None, stop_words=None,\n",
       "  ...alse, use_idf=True)), ('multinomialnb', MultinomialNB(alpha=1.0, class_prior=None, fit_prior=True))])"
      ]
     },
     "execution_count": 116,
     "metadata": {},
     "output_type": "execute_result"
    }
   ],
   "source": [
    "pipe.fit(train_data['cleaned'], train_data['SECTION'])"
   ]
  },
  {
   "cell_type": "code",
   "execution_count": 117,
   "metadata": {
    "collapsed": true
   },
   "outputs": [],
   "source": [
    "test_pred = pipe.predict(test_data['cleaned'])"
   ]
  },
  {
   "cell_type": "code",
   "execution_count": 118,
   "metadata": {},
   "outputs": [
    {
     "data": {
      "text/plain": [
       "array([1, 2, 1, ..., 1, 0, 1], dtype=int64)"
      ]
     },
     "execution_count": 118,
     "metadata": {},
     "output_type": "execute_result"
    }
   ],
   "source": [
    "test_pred"
   ]
  },
  {
   "cell_type": "code",
   "execution_count": 121,
   "metadata": {},
   "outputs": [],
   "source": []
  },
  {
   "cell_type": "code",
   "execution_count": null,
   "metadata": {
    "collapsed": true
   },
   "outputs": [],
   "source": []
  }
 ],
 "metadata": {
  "kernelspec": {
   "display_name": "Python 3",
   "language": "python",
   "name": "python3"
  },
  "language_info": {
   "codemirror_mode": {
    "name": "ipython",
    "version": 3
   },
   "file_extension": ".py",
   "mimetype": "text/x-python",
   "name": "python",
   "nbconvert_exporter": "python",
   "pygments_lexer": "ipython3",
   "version": "3.6.3"
  }
 },
 "nbformat": 4,
 "nbformat_minor": 2
}
